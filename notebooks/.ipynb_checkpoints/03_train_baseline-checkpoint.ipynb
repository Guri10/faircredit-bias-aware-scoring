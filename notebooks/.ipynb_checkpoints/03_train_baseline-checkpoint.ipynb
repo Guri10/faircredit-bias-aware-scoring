{
 "cells": [
  {
   "cell_type": "markdown",
   "id": "07163e1c-fe79-40bb-9a25-c524da5dabb1",
   "metadata": {},
   "source": [
    "# Phase 5: Baseline Model Training  \n",
    "We’ll train a Random Forest on the preprocessed features and track everything in MLflow.\n"
   ]
  },
  {
   "cell_type": "markdown",
   "id": "541fea4b-3cc3-4af3-b6ed-d5d4898c8632",
   "metadata": {},
   "source": [
    "**Before running**:  \n",
    "Open a separate terminal tab, `cd` into your project root, activate your `faircredit` env, and run:\n",
    "\n",
    "```bash\n",
    "mlflow ui --port 5000\n"
   ]
  },
  {
   "cell_type": "code",
   "execution_count": 1,
   "id": "cc8cdf9e-7fb5-464a-b016-88fa736cc308",
   "metadata": {},
   "outputs": [],
   "source": [
    "import sys, os\n",
    "sys.path.insert(0, os.path.abspath(\"..\"))\n",
    "\n",
    "from src.train_baseline import train_and_log\n"
   ]
  },
  {
   "cell_type": "code",
   "execution_count": 2,
   "id": "72d054f2-8bc3-41b8-9d5d-d9858968daa0",
   "metadata": {},
   "outputs": [
    {
     "name": "stderr",
     "output_type": "stream",
     "text": [
      "2025/07/15 14:42:39 WARNING mlflow.models.model: `artifact_path` is deprecated. Please use `name` instead.\n",
      "2025/07/15 14:42:39 WARNING mlflow.sklearn: Model was missing function: predict. Not logging python_function flavor!\n",
      "\u001b[31m2025/07/15 14:42:42 WARNING mlflow.models.model: Model logged without a signature and input example. Please set `input_example` parameter when logging the model to auto infer the model signature.\u001b[0m\n",
      "2025/07/15 14:42:42 WARNING mlflow.models.model: `artifact_path` is deprecated. Please use `name` instead.\n",
      "\u001b[31m2025/07/15 14:42:44 WARNING mlflow.models.model: Model logged without a signature and input example. Please set `input_example` parameter when logging the model to auto infer the model signature.\u001b[0m\n"
     ]
    },
    {
     "name": "stdout",
     "output_type": "stream",
     "text": [
      "Run done — AUC: 0.787, Acc: 0.745\n"
     ]
    }
   ],
   "source": [
    "train_and_log()"
   ]
  },
  {
   "cell_type": "code",
   "execution_count": 3,
   "id": "6ef18e3c-10b8-4d06-a9cb-b1ff58321862",
   "metadata": {},
   "outputs": [
    {
     "name": "stdout",
     "output_type": "stream",
     "text": [
      "Run 8554c0e4b16141e8910e1d9bbc74602d: AUC=0.787, Acc=0.745\n",
      "Run 508a274d535d44a88cf202eecc776873: AUC=0.787, Acc=0.745\n"
     ]
    }
   ],
   "source": [
    "import mlflow\n",
    "\n",
    "# Adjust this to your experiment ID if you set a non-default one\n",
    "experiment_name = \"faircredit_baseline\"\n",
    "client = mlflow.tracking.MlflowClient()\n",
    "exp = client.get_experiment_by_name(experiment_name)\n",
    "\n",
    "runs = client.search_runs(\n",
    "    experiment_ids=[exp.experiment_id],\n",
    "    order_by=[\"metrics.roc_auc DESC\"],\n",
    "    max_results=5,\n",
    ")\n",
    "for r in runs:\n",
    "    print(\n",
    "        f\"Run {r.info.run_id}: \"\n",
    "        f\"AUC={r.data.metrics['roc_auc']:.3f}, \"\n",
    "        f\"Acc={r.data.metrics['accuracy']:.3f}\"\n",
    "    )\n"
   ]
  },
  {
   "cell_type": "code",
   "execution_count": null,
   "id": "0db14989-cb09-416c-a873-cabb57dfd11c",
   "metadata": {},
   "outputs": [],
   "source": []
  }
 ],
 "metadata": {
  "kernelspec": {
   "display_name": "Python 3 (ipykernel)",
   "language": "python",
   "name": "python3"
  },
  "language_info": {
   "codemirror_mode": {
    "name": "ipython",
    "version": 3
   },
   "file_extension": ".py",
   "mimetype": "text/x-python",
   "name": "python",
   "nbconvert_exporter": "python",
   "pygments_lexer": "ipython3",
   "version": "3.10.18"
  }
 },
 "nbformat": 4,
 "nbformat_minor": 5
}
